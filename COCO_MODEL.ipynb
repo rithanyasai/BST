{
  "nbformat": 4,
  "nbformat_minor": 0,
  "metadata": {
    "colab": {
      "provenance": []
    },
    "kernelspec": {
      "name": "python3",
      "display_name": "Python 3"
    },
    "language_info": {
      "name": "python"
    },
    "accelerator": "GPU",
    "gpuClass": "standard"
  },
  "cells": [
    {
      "cell_type": "code",
      "execution_count": null,
      "metadata": {
        "id": "nck9HTjLSCPs"
      },
      "outputs": [],
      "source": [
        "import tensorflow as tf\n",
        "\n",
        "from tensorflow.keras import datasets, layers, models\n",
        "import matplotlib.pyplot as plt\n",
        "\n",
        "import os\n",
        "import zipfile\n",
        "import keras \n",
        "import datetime\n",
        "import shutil\n",
        "\n",
        "from tensorflow.keras.preprocessing.image import ImageDataGenerator\n",
        "\n",
        "from tensorflow.keras.models import Sequential\n",
        "from tensorflow.keras.layers import Conv2D, MaxPool2D, Flatten, Dense, Dropout"
      ]
    },
    {
      "cell_type": "code",
      "source": [
        "from google.colab import drive\n",
        "drive.mount('/content/drive')"
      ],
      "metadata": {
        "colab": {
          "base_uri": "https://localhost:8080/",
          "height": 328
        },
        "id": "3yoVg3VbknCh",
        "outputId": "9b343746-2eba-4706-ca0e-89a2a760058c"
      },
      "execution_count": null,
      "outputs": [
        {
          "output_type": "error",
          "ename": "ValueError",
          "evalue": "ignored",
          "traceback": [
            "\u001b[0;31m---------------------------------------------------------------------------\u001b[0m",
            "\u001b[0;31mValueError\u001b[0m                                Traceback (most recent call last)",
            "\u001b[0;32m<ipython-input-3-6b238231e472>\u001b[0m in \u001b[0;36m<module>\u001b[0;34m\u001b[0m\n\u001b[1;32m      1\u001b[0m \u001b[0;32mfrom\u001b[0m \u001b[0mgoogle\u001b[0m\u001b[0;34m.\u001b[0m\u001b[0mcolab\u001b[0m \u001b[0;32mimport\u001b[0m \u001b[0mdrive\u001b[0m\u001b[0;34m\u001b[0m\u001b[0;34m\u001b[0m\u001b[0m\n\u001b[0;32m----> 2\u001b[0;31m \u001b[0mdrive\u001b[0m\u001b[0;34m.\u001b[0m\u001b[0mmount\u001b[0m\u001b[0;34m(\u001b[0m\u001b[0;34m'/content/drive/MyDrive/coconut dataset'\u001b[0m\u001b[0;34m)\u001b[0m\u001b[0;34m\u001b[0m\u001b[0;34m\u001b[0m\u001b[0m\n\u001b[0m",
            "\u001b[0;32m/usr/local/lib/python3.7/dist-packages/google/colab/drive.py\u001b[0m in \u001b[0;36mmount\u001b[0;34m(mountpoint, force_remount, timeout_ms, readonly)\u001b[0m\n\u001b[1;32m    104\u001b[0m       \u001b[0mtimeout_ms\u001b[0m\u001b[0;34m=\u001b[0m\u001b[0mtimeout_ms\u001b[0m\u001b[0;34m,\u001b[0m\u001b[0;34m\u001b[0m\u001b[0;34m\u001b[0m\u001b[0m\n\u001b[1;32m    105\u001b[0m       \u001b[0mephemeral\u001b[0m\u001b[0;34m=\u001b[0m\u001b[0;32mTrue\u001b[0m\u001b[0;34m,\u001b[0m\u001b[0;34m\u001b[0m\u001b[0;34m\u001b[0m\u001b[0m\n\u001b[0;32m--> 106\u001b[0;31m       readonly=readonly)\n\u001b[0m\u001b[1;32m    107\u001b[0m \u001b[0;34m\u001b[0m\u001b[0m\n\u001b[1;32m    108\u001b[0m \u001b[0;34m\u001b[0m\u001b[0m\n",
            "\u001b[0;32m/usr/local/lib/python3.7/dist-packages/google/colab/drive.py\u001b[0m in \u001b[0;36m_mount\u001b[0;34m(mountpoint, force_remount, timeout_ms, ephemeral, readonly)\u001b[0m\n\u001b[1;32m    117\u001b[0m \u001b[0;34m\u001b[0m\u001b[0m\n\u001b[1;32m    118\u001b[0m   \u001b[0;32mif\u001b[0m \u001b[0;34m' '\u001b[0m \u001b[0;32min\u001b[0m \u001b[0mmountpoint\u001b[0m\u001b[0;34m:\u001b[0m\u001b[0;34m\u001b[0m\u001b[0;34m\u001b[0m\u001b[0m\n\u001b[0;32m--> 119\u001b[0;31m     \u001b[0;32mraise\u001b[0m \u001b[0mValueError\u001b[0m\u001b[0;34m(\u001b[0m\u001b[0;34m'Mountpoint must not contain a space.'\u001b[0m\u001b[0;34m)\u001b[0m\u001b[0;34m\u001b[0m\u001b[0;34m\u001b[0m\u001b[0m\n\u001b[0m\u001b[1;32m    120\u001b[0m \u001b[0;34m\u001b[0m\u001b[0m\n\u001b[1;32m    121\u001b[0m   metadata_server_addr = _os.environ[\n",
            "\u001b[0;31mValueError\u001b[0m: Mountpoint must not contain a space."
          ]
        }
      ]
    },
    {
      "cell_type": "code",
      "source": [
        "train_data_gen = ImageDataGenerator(rescale=1/255)\n",
        "validation_data_gen = ImageDataGenerator(rescale=1/255)\n",
        "\n",
        "train_gen = train_data_gen.flow_from_directory(\n",
        "    '/content/drive/MyDrive/coconut dataset/train',\n",
        "    target_size = (256,256),\n",
        "    batch_size = 32,\n",
        "    class_mode = 'categorical'\n",
        ")\n",
        "\n",
        "val_gen = train_data_gen.flow_from_directory(\n",
        "    '/content/drive/MyDrive/coconut dataset/valid',\n",
        "    target_size = (256,256),\n",
        "    batch_size = 16,\n",
        "    class_mode = 'categorical'\n",
        ")"
      ],
      "metadata": {
        "colab": {
          "base_uri": "https://localhost:8080/"
        },
        "id": "OngDw7fQks05",
        "outputId": "f1a4557d-b2b7-4d6c-f2bf-60bf5f6dbf51"
      },
      "execution_count": null,
      "outputs": [
        {
          "output_type": "stream",
          "name": "stdout",
          "text": [
            "Found 2109 images belonging to 3 classes.\n",
            "Found 531 images belonging to 3 classes.\n"
          ]
        }
      ]
    },
    {
      "cell_type": "code",
      "source": [
        "model = Sequential()\n",
        "model.add(layers.Conv2D(input_shape=(256, 256, 3), filters=64,kernel_size=(3,3), padding=\"same\",activation='relu'))\n",
        "model.add(layers.Conv2D(32, (3, 3),\n",
        "                      activation='relu',\n",
        "                      padding='same',\n",
        "                      name='conv1'))\n",
        "model.add(layers.MaxPooling2D((2, 2), strides=(2, 2), name='block1_pool'))\n",
        "model.add(layers.Conv2D(64, (3, 3),\n",
        "                      activation='relu',\n",
        "                      padding='same',\n",
        "                      name='conv2'))\n",
        "model.add(layers.MaxPooling2D((2, 2), strides=(2, 2)))\n",
        "\n",
        "model.add(layers.Conv2D(82, (3, 3),\n",
        "                      activation='relu',\n",
        "                      padding='same',\n",
        "                      name='conv3'))\n",
        "model.add(layers.MaxPooling2D((2, 2), strides=(2, 2)))\n",
        "\n",
        "model.add(layers.Conv2D(128, (3, 3),\n",
        "                      activation='relu',\n",
        "                      padding='same',\n",
        "                      name='conv4'))\n",
        "model.add(layers.MaxPooling2D((2, 2), strides=(2, 2)))\n",
        "model.add(layers.MaxPooling2D((2, 2), strides=(2, 2)))"
      ],
      "metadata": {
        "id": "PhsiInTQlQ6w"
      },
      "execution_count": null,
      "outputs": []
    },
    {
      "cell_type": "code",
      "source": [
        "model.add(layers.Flatten())\n",
        "model.add(layers.Dense(64, activation='relu'))\n",
        "model.add(layers.Dense(3,activation='softmax'))"
      ],
      "metadata": {
        "id": "pjMC8mQWld3N"
      },
      "execution_count": null,
      "outputs": []
    },
    {
      "cell_type": "code",
      "source": [
        "model.summary()"
      ],
      "metadata": {
        "colab": {
          "base_uri": "https://localhost:8080/"
        },
        "id": "eU-pjdINlehT",
        "outputId": "8b4364c2-a974-4f6b-f3b9-92aa7c263d80"
      },
      "execution_count": null,
      "outputs": [
        {
          "output_type": "stream",
          "name": "stdout",
          "text": [
            "Model: \"sequential\"\n",
            "_________________________________________________________________\n",
            " Layer (type)                Output Shape              Param #   \n",
            "=================================================================\n",
            " conv2d (Conv2D)             (None, 256, 256, 64)      1792      \n",
            "                                                                 \n",
            " conv1 (Conv2D)              (None, 256, 256, 32)      18464     \n",
            "                                                                 \n",
            " block1_pool (MaxPooling2D)  (None, 128, 128, 32)      0         \n",
            "                                                                 \n",
            " conv2 (Conv2D)              (None, 128, 128, 64)      18496     \n",
            "                                                                 \n",
            " max_pooling2d (MaxPooling2D  (None, 64, 64, 64)       0         \n",
            " )                                                               \n",
            "                                                                 \n",
            " conv3 (Conv2D)              (None, 64, 64, 82)        47314     \n",
            "                                                                 \n",
            " max_pooling2d_1 (MaxPooling  (None, 32, 32, 82)       0         \n",
            " 2D)                                                             \n",
            "                                                                 \n",
            " conv4 (Conv2D)              (None, 32, 32, 128)       94592     \n",
            "                                                                 \n",
            " max_pooling2d_2 (MaxPooling  (None, 16, 16, 128)      0         \n",
            " 2D)                                                             \n",
            "                                                                 \n",
            " max_pooling2d_3 (MaxPooling  (None, 8, 8, 128)        0         \n",
            " 2D)                                                             \n",
            "                                                                 \n",
            " flatten (Flatten)           (None, 8192)              0         \n",
            "                                                                 \n",
            " dense (Dense)               (None, 64)                524352    \n",
            "                                                                 \n",
            " dense_1 (Dense)             (None, 3)                 195       \n",
            "                                                                 \n",
            "=================================================================\n",
            "Total params: 705,205\n",
            "Trainable params: 705,205\n",
            "Non-trainable params: 0\n",
            "_________________________________________________________________\n"
          ]
        }
      ]
    },
    {
      "cell_type": "code",
      "source": [
        "from tensorflow.keras.optimizers import Adam\n",
        "model.compile(loss = 'categorical_crossentropy',\n",
        "             optimizer = 'Adam',\n",
        "             metrics = ['accuracy'])"
      ],
      "metadata": {
        "id": "KM81oAkylhru"
      },
      "execution_count": null,
      "outputs": []
    },
    {
      "cell_type": "code",
      "source": [
        "early_stopping=tf.keras.callbacks.EarlyStopping(monitor=\"val_accuracy\",\n",
        "                                                patience=3)"
      ],
      "metadata": {
        "id": "O9Jji5Zplr3c"
      },
      "execution_count": null,
      "outputs": []
    },
    {
      "cell_type": "code",
      "source": [
        "model_fit = model.fit(train_gen,\n",
        "                     epochs = 10,\n",
        "                    verbose = 1,\n",
        "                     validation_data = val_gen)\n"
      ],
      "metadata": {
        "colab": {
          "base_uri": "https://localhost:8080/"
        },
        "id": "pyUkca_glvH6",
        "outputId": "600aa962-fb94-4c36-bf39-6df6f6a051ea"
      },
      "execution_count": null,
      "outputs": [
        {
          "output_type": "stream",
          "name": "stdout",
          "text": [
            "Epoch 1/10\n",
            "66/66 [==============================] - 1021s 15s/step - loss: 1.0993 - accuracy: 0.3646 - val_loss: 1.0982 - val_accuracy: 0.3766\n",
            "Epoch 2/10\n",
            "66/66 [==============================] - 511s 8s/step - loss: 1.0569 - accuracy: 0.4358 - val_loss: 1.0406 - val_accuracy: 0.4915\n",
            "Epoch 3/10\n",
            "66/66 [==============================] - 514s 8s/step - loss: 0.6822 - accuracy: 0.7108 - val_loss: 0.7028 - val_accuracy: 0.6987\n",
            "Epoch 4/10\n",
            "66/66 [==============================] - 507s 8s/step - loss: 0.5320 - accuracy: 0.7824 - val_loss: 0.5570 - val_accuracy: 0.7928\n",
            "Epoch 5/10\n",
            "66/66 [==============================] - 494s 7s/step - loss: 0.3402 - accuracy: 0.8706 - val_loss: 0.6239 - val_accuracy: 0.7778\n",
            "Epoch 6/10\n",
            "66/66 [==============================] - 445s 7s/step - loss: 0.2360 - accuracy: 0.9161 - val_loss: 0.4499 - val_accuracy: 0.8531\n",
            "Epoch 7/10\n",
            "66/66 [==============================] - 446s 7s/step - loss: 0.1854 - accuracy: 0.9336 - val_loss: 0.6113 - val_accuracy: 0.8192\n",
            "Epoch 8/10\n",
            "66/66 [==============================] - 445s 7s/step - loss: 0.1556 - accuracy: 0.9464 - val_loss: 0.5040 - val_accuracy: 0.8493\n",
            "Epoch 9/10\n",
            "66/66 [==============================] - 446s 7s/step - loss: 0.1230 - accuracy: 0.9550 - val_loss: 0.4744 - val_accuracy: 0.8682\n",
            "Epoch 10/10\n",
            "66/66 [==============================] - 445s 7s/step - loss: 0.1146 - accuracy: 0.9564 - val_loss: 0.4465 - val_accuracy: 0.8663\n"
          ]
        }
      ]
    },
    {
      "cell_type": "code",
      "source": [
        "model.save('coconut_proj_rith.h5')"
      ],
      "metadata": {
        "colab": {
          "base_uri": "https://localhost:8080/",
          "height": 165
        },
        "id": "1urjrsAWl00X",
        "outputId": "e75f85b9-a02f-46a5-be99-70d323fe4c9d"
      },
      "execution_count": null,
      "outputs": [
        {
          "output_type": "error",
          "ename": "AttributeError",
          "evalue": "ignored",
          "traceback": [
            "\u001b[0;31m---------------------------------------------------------------------------\u001b[0m",
            "\u001b[0;31mAttributeError\u001b[0m                            Traceback (most recent call last)",
            "\u001b[0;32m<ipython-input-12-c12ef73ac665>\u001b[0m in \u001b[0;36m<module>\u001b[0;34m\u001b[0m\n\u001b[0;32m----> 1\u001b[0;31m \u001b[0mmodel_fit\u001b[0m\u001b[0;34m.\u001b[0m\u001b[0msave\u001b[0m\u001b[0;34m(\u001b[0m\u001b[0;34m'coconut_proj_rith.h5'\u001b[0m\u001b[0;34m)\u001b[0m\u001b[0;34m\u001b[0m\u001b[0;34m\u001b[0m\u001b[0m\n\u001b[0m",
            "\u001b[0;31mAttributeError\u001b[0m: 'History' object has no attribute 'save'"
          ]
        }
      ]
    },
    {
      "cell_type": "code",
      "source": [],
      "metadata": {
        "id": "LcSSrSrQELqM"
      },
      "execution_count": null,
      "outputs": []
    }
  ]
}